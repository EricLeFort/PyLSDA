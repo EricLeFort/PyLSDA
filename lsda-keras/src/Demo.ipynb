{
 "cells": [
  {
   "cell_type": "code",
   "execution_count": 1,
   "metadata": {},
   "outputs": [],
   "source": [
    "%load_ext autoreload\n",
    "%autoreload 2"
   ]
  },
  {
   "cell_type": "code",
   "execution_count": 2,
   "metadata": {
    "scrolled": true
   },
   "outputs": [
    {
     "name": "stderr",
     "output_type": "stream",
     "text": [
      "Using TensorFlow backend.\n"
     ]
    }
   ],
   "source": [
    "import sys\n",
    "\n",
    "from selective_search import selective_search\n",
    "import skimage.io\n",
    "\n",
    "from rcnn import *\n",
    "from nms import *\n",
    "from vis import *"
   ]
  },
  {
   "cell_type": "code",
   "execution_count": null,
   "metadata": {},
   "outputs": [],
   "source": [
    "MAX_CATEGORIES = 100\n",
    "\n",
    "def prune_boxes(boxes, scores):\n",
    "    print(\"Prune boxes... \", end=\"\")\n",
    "    \n",
    "    # Find scores > 0\n",
    "    pos_scores = np.argwhere(scores > 0)\n",
    "    categories = np.unique(pos_scores[:, 1])\n",
    "    \n",
    "    # If too many categories, choose the N categories with the highest scores\n",
    "    if len(categories) > MAX_CATEGORIES:\n",
    "        best_scores = max(scores[:, categories])\n",
    "        best_scores = [(score, category) for score, category in zip(best_scores, categories)]\n",
    "        best_scores.sort(reverse=True)\n",
    "        categories = [category for _, category in best_scores[:MAX_CATEGORIES]]\n",
    "    \n",
    "    idx = 0\n",
    "    best_boxes, category_ids, best_scores = [], [], []\n",
    "    for category in categories:\n",
    "        idxs = pos_scores[1][pos_scores[1] == category]\n",
    "        category_scores = scores[pos_scores[0][idxs], category]\n",
    "        scored_boxes = [(box, score) for box, score in zip(boxes[idx], category_scores)]\n",
    "        \n",
    "        keep = non_max_suppression(scored_boxes, 0.1)\n",
    "        best_boxes += [box for box in scored_boxes[keep]]\n",
    "        category_ids += [category for _ in keep]\n",
    "        best_scores += category_scores[keep]\n",
    "        \n",
    "    keep = non_max_suppression(best_boxes, 0.4)\n",
    "    category_ids = category_ids[keep]\n",
    "    best_boxes = best_boxes[keep]\n",
    "    best_scores = best_scores[keep]\n",
    "    idxs = [i for i, (_, score) in enumerate(best_boxes) if score >= 1]\n",
    "    \n",
    "    if len(idxs) > 1:\n",
    "        best_boxes = best_boxes[idxs]\n",
    "        category_ids = category_ids[idxs]\n",
    "        best_scores = best_scores[idxs]\n",
    "        \n",
    "    print(\"Done.\")\n",
    "    return best_boxes, category_ids, best_scores"
   ]
  },
  {
   "cell_type": "code",
   "execution_count": 3,
   "metadata": {},
   "outputs": [],
   "source": [
    "def extract_boxes(img, n):\n",
    "    \"\"\"\n",
    "    Uses Selective Search to extract the top N boxes from the image\n",
    "    \n",
    "    Args:\n",
    "        img (ndarray): The image to extract boxes from\n",
    "        n (int): The maximum number of boxes to return\n",
    "    Returns:\n",
    "        The extracted list of boxes\n",
    "    \"\"\"\n",
    "    # Modes = \"single\", \"fast\", \"quality\"\n",
    "    print(\"Extracting boxes... \", end=\"\")\n",
    "    boxes = selective_search(img, mode=\"fast\", random=False)\n",
    "    print(\"Done.\")\n",
    "\n",
    "    # Only return first N boxes\n",
    "    return boxes[:n]"
   ]
  },
  {
   "cell_type": "code",
   "execution_count": 4,
   "metadata": {},
   "outputs": [],
   "source": [
    "def per_region_features(model, features, img, boxes):\n",
    "    \"\"\"\n",
    "    \n",
    "    Args:\n",
    "        model (Model): The model to use\n",
    "        features ():\n",
    "        img (ndarray): The image to extract features from\n",
    "        boxes (list of tuple): The (x1, y1, x2, y2) boxes\n",
    "    Returns:\n",
    "        -\n",
    "    \"\"\"\n",
    "    print(\"Extracting features from regions... \", end=\"\")\n",
    "    \n",
    "    \n",
    "    print(\"Done.\")\n",
    "    return features"
   ]
  },
  {
   "cell_type": "code",
   "execution_count": null,
   "metadata": {},
   "outputs": [],
   "source": [
    "def prune_boxes_hedging(boxes, scores, categories):\n",
    "    pass"
   ]
  },
  {
   "cell_type": "code",
   "execution_count": 5,
   "metadata": {
    "scrolled": true
   },
   "outputs": [
    {
     "name": "stdout",
     "output_type": "stream",
     "text": [
      "Extracting boxes... Done.\n"
     ]
    }
   ],
   "source": [
    "# Load model\n",
    "model = load_model(\"../models/model.pkl\")\n",
    "\n",
    "# Get boxes\n",
    "img = skimage.io.imread(\"../data/ex_img.jpg\")\n",
    "num_boxes = 1024\n",
    "boxes = extract_boxes(img, num_boxes)\n",
    "\n",
    "# Extract per region features and scores\n",
    "scores = per_region_features(model, feat, img, boxes)\n",
    "\n",
    "# Prune boxes based on scores\n",
    "boxes, category_ids = prune_boxes(boxes, scores)\n",
    "found_categories = model.classes[category_ids]\n",
    "\n",
    "# Show detections\n",
    "m = min(5, len(category_ids))\n",
    "show_detections(img, boxes[:m], found_categories[:m], category_ids[:m])"
   ]
  },
  {
   "cell_type": "code",
   "execution_count": null,
   "metadata": {},
   "outputs": [],
   "source": []
  }
 ],
 "metadata": {
  "kernelspec": {
   "display_name": "Python 3",
   "language": "python",
   "name": "python3"
  },
  "language_info": {
   "codemirror_mode": {
    "name": "ipython",
    "version": 3
   },
   "file_extension": ".py",
   "mimetype": "text/x-python",
   "name": "python",
   "nbconvert_exporter": "python",
   "pygments_lexer": "ipython3",
   "version": "3.6.6"
  }
 },
 "nbformat": 4,
 "nbformat_minor": 4
}
