{
 "cells": [
  {
   "cell_type": "code",
   "execution_count": 1,
   "metadata": {},
   "outputs": [],
   "source": [
    "%load_ext autoreload\n",
    "%autoreload 2"
   ]
  },
  {
   "cell_type": "code",
   "execution_count": 2,
   "metadata": {
    "scrolled": true
   },
   "outputs": [
    {
     "name": "stderr",
     "output_type": "stream",
     "text": [
      "Using TensorFlow backend.\n"
     ]
    }
   ],
   "source": [
    "import sys\n",
    "\n",
    "from selective_search import selective_search\n",
    "import skimage.io\n",
    "\n",
    "from rcnn import *"
   ]
  },
  {
   "cell_type": "code",
   "execution_count": 3,
   "metadata": {},
   "outputs": [],
   "source": [
    "def extract_boxes(img, n):\n",
    "    \"\"\"\n",
    "    Uses Selective Search to extract the top N boxes from the image\n",
    "    \n",
    "    Args:\n",
    "        img (ndarray): The image to extract boxes from\n",
    "        n (int): The maximum number of boxes to return\n",
    "    Returns:\n",
    "        The extracted list of boxes\n",
    "    \"\"\"\n",
    "    # Modes = \"single\", \"fast\", \"quality\"\n",
    "    print(\"Extracting boxes... \", end=\"\")\n",
    "    boxes = selective_search(img, mode=\"fast\", random=False)\n",
    "    print(\"Done.\")\n",
    "\n",
    "    # Only return first N boxes\n",
    "    return boxes[:n]"
   ]
  },
  {
   "cell_type": "code",
   "execution_count": 4,
   "metadata": {},
   "outputs": [],
   "source": [
    "def per_region_features(model, features, img, boxes):\n",
    "    \"\"\"\n",
    "    \n",
    "    Args:\n",
    "        model (Model): The model to use\n",
    "        features ():\n",
    "        img (ndarray): The image to extract features from\n",
    "        boxes (list of tuple): The (x1, y1, x2, y2) boxes\n",
    "    Returns:\n",
    "        -\n",
    "    \"\"\"\n",
    "    print(\"Extracting features from regions... \", end=\"\")\n",
    "    \n",
    "    \n",
    "    print(\"Done.\")\n",
    "    return features"
   ]
  },
  {
   "cell_type": "code",
   "execution_count": 5,
   "metadata": {
    "scrolled": true
   },
   "outputs": [
    {
     "name": "stdout",
     "output_type": "stream",
     "text": [
      "Extracting boxes... Done.\n"
     ]
    }
   ],
   "source": [
    "model = load_model(\"../models/model.pkl\")\n",
    "\n",
    "img = skimage.io.imread(\"../data/ex_img.jpg\")\n",
    "boxes = extract_boxes(img, 500)"
   ]
  },
  {
   "cell_type": "code",
   "execution_count": null,
   "metadata": {},
   "outputs": [],
   "source": []
  }
 ],
 "metadata": {
  "kernelspec": {
   "display_name": "Python 3",
   "language": "python",
   "name": "python3"
  },
  "language_info": {
   "codemirror_mode": {
    "name": "ipython",
    "version": 3
   },
   "file_extension": ".py",
   "mimetype": "text/x-python",
   "name": "python",
   "nbconvert_exporter": "python",
   "pygments_lexer": "ipython3",
   "version": "3.6.6"
  }
 },
 "nbformat": 4,
 "nbformat_minor": 4
}
